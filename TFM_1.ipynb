{
  "nbformat": 4,
  "nbformat_minor": 0,
  "metadata": {
    "colab": {
      "provenance": [],
      "toc_visible": true,
      "authorship_tag": "ABX9TyM1yQUkr4KC1kkoOOr5crI3",
      "include_colab_link": true
    },
    "kernelspec": {
      "name": "python3",
      "display_name": "Python 3"
    },
    "language_info": {
      "name": "python"
    }
  },
  "cells": [
    {
      "cell_type": "markdown",
      "metadata": {
        "id": "view-in-github",
        "colab_type": "text"
      },
      "source": [
        "<a href=\"https://colab.research.google.com/github/MariaChuquitarco/014MBID/blob/main/TFM_1.ipynb\" target=\"_parent\"><img src=\"https://colab.research.google.com/assets/colab-badge.svg\" alt=\"Open In Colab\"/></a>"
      ]
    },
    {
      "cell_type": "markdown",
      "source": [
        "#Proceso KDD\n"
      ],
      "metadata": {
        "id": "9GPjF1TitXvi"
      }
    },
    {
      "cell_type": "markdown",
      "source": [
        "##Obtención de la base de datos"
      ],
      "metadata": {
        "id": "X_pjjMGatdnB"
      }
    },
    {
      "cell_type": "code",
      "source": [
        "import pandas as pd\n",
        "base_personas= pd.read_csv(\"/content/BDD_ENDI_R1_f1_personas_Trabajada.csv\", delimiter=';')\n",
        "base_hogar = pd.read_csv(\"/content/BDD_ENDI_R1_f1_hogar.csv\", delimiter=';')\n",
        "base_lactancia = pd.read_csv(\"/content/BDD_ENDI_R1_f2_lactancia.csv\", delimiter=';')\n",
        "base_mef = pd.read_csv(\"/content/BDD_ENDI_R1_f2_mef.csv\", delimiter=';')\n",
        "base_salud_ninez = pd.read_csv(\"/content/BDD_ENDI_R1_f2_salud_ninez.csv\", delimiter=';')"
      ],
      "metadata": {
        "colab": {
          "base_uri": "https://localhost:8080/"
        },
        "id": "cU24-7X9ZRv0",
        "outputId": "ffa96dc8-a93e-4bdb-ddd0-bb1fb6a12d12"
      },
      "execution_count": 13,
      "outputs": [
        {
          "output_type": "stream",
          "name": "stderr",
          "text": [
            "<ipython-input-13-cab56364ea85>:2: DtypeWarning: Columns (17) have mixed types. Specify dtype option on import or set low_memory=False.\n",
            "  base_personas= pd.read_csv(\"/content/BDD_ENDI_R1_f1_personas_Trabajada.csv\", delimiter=';')\n",
            "<ipython-input-13-cab56364ea85>:3: DtypeWarning: Columns (60,61,62,63,64,65) have mixed types. Specify dtype option on import or set low_memory=False.\n",
            "  base_hogar = pd.read_csv(\"/content/BDD_ENDI_R1_f1_hogar.csv\", delimiter=';')\n",
            "<ipython-input-13-cab56364ea85>:5: DtypeWarning: Columns (71,72) have mixed types. Specify dtype option on import or set low_memory=False.\n",
            "  base_mef = pd.read_csv(\"/content/BDD_ENDI_R1_f2_mef.csv\", delimiter=';')\n",
            "<ipython-input-13-cab56364ea85>:6: DtypeWarning: Columns (6) have mixed types. Specify dtype option on import or set low_memory=False.\n",
            "  base_salud_ninez = pd.read_csv(\"/content/BDD_ENDI_R1_f2_salud_ninez.csv\", delimiter=';')\n"
          ]
        }
      ]
    },
    {
      "cell_type": "markdown",
      "source": [
        "A continunación el primer filtro teneindo en cuenta el criterio de  clasificación proporcionada por el Fondo de las Naciones Unidas para la Infancia (UNICEF)"
      ],
      "metadata": {
        "id": "rPYwqBpqaP9K"
      }
    },
    {
      "cell_type": "code",
      "source": [
        "columnas_personas= ['id_viv','id_hogar','id_per','edaddias','f1_s1_10','f1_s1_11','f1_s1_12','f1_s5_4_1','f1_s5_4_2','f1_s5_4_3',\n",
        "                    'f1_s5_5_1','f1_s5_5_2','f1_s5_5_3','f1_s5_6_1','f1_s5_6_2','f1_s5_6_3','f1_s6_3','dcronica']\n",
        "columnas_hogar=['id_viv','id_hogar','f1_s3_3','f1_s3_5','f1_s3_7','f1_s3_9','f1_s3_11','f1_s3_12','f1_s3_20','f1_s3_28','f1_s4_1_6',\n",
        "                'f1_s7_1','f1_s7_4','f1_s7_23']\n",
        "columnas_lactancia=['id_viv','id_hogar','id_per','id_mef_per','f2_s3_302','f2_s3_304','f2_s3_307_2','f2_s3_310_a_1','f2_s3_310_b_2',\n",
        "                     'f2_s3_310_c_2','f2_s3_310_d_1','f2_s3_310_e_1','f2_s3_310_f_1','f2_s3_311','f2_s3_312_a','f2_s3_312_b','f2_s3_312_c',\n",
        "                     'f2_s3_312_d','f2_s3_312_e','f2_s3_312_f','f2_s3_312_g','f2_s3_312_h','f2_s3_312_i','f2_s3_312_j','f2_s3_312_k',\n",
        "                      'f2_s3_312_l','f2_s3_312_m','f2_s3_312_n','f2_s3_312_o','f2_s3_312_p','f2_s3_312_q','f2_s3_312_r','f2_s3_312_s',\n",
        "                      'f2_s3_312_t','f2_s3_312_u','f2_s3_313','f2_s3_314','f2_s3_315','f2_s3_316','f2_s3_318','f2_s3_320','f2_s3_321','f2_s3_323']\n",
        "columnas_mef=['id_viv','id_hogar','f2_s1_101','f2_s2_227_3','f2_s2_228_1','f2_s2_233_1','f2_s2_233_2','f2_s2_233_4']\n",
        "columnas_salud_ninez=['id_viv','id_hogar','id_per','area','ord_hijo','f2_s4a_402','f2_s4b_404','f2_s4b_406','f2_s4b_409_a','f2_s4b_410_a','f2_s4b_411_a',\n",
        "                      'f2_s4b_414','f2_s4b_415','f2_s4b_416','f2_s4b_417','f2_s4b_418_a','f2_s4b_419_a','f2_s4b_420_a','f2_s4b_421_a','f2_s4b_422_a',\n",
        "                      'f2_s4b_423_a','f2_s4b_424_a','f2_s4b_425_a','f2_s4b_426_a','f2_s4b_427','f2_s4b_428a_1','f2_s4b_428a_2','f2_s4b_428a_3','f2_s4b_428a_4',\n",
        "                      'f2_s4b_428a_5','f2_s4b_428b_6','f2_s4b_428a_7','f2_s4b_428a_8','f2_s4b_428a_9','f2_s4b_428a_10','f2_s4c_431','f2_s4d_436','f2_s4e_448_a',\n",
        "                      'f2_s4e_448_b','f2_s4e_448_c']\n",
        "\n",
        "personas_filtrado = base_personas[columnas_personas]\n",
        "hogar_filtrado = base_hogar[columnas_hogar]\n",
        "lactancia_filtrado = base_lactancia[columnas_lactancia]\n",
        "mef_filtrado = base_mef[columnas_mef]\n",
        "salud_ninez_filtrado = base_salud_ninez[columnas_salud_ninez]\n"
      ],
      "metadata": {
        "id": "gC4G3QM_ZvAg"
      },
      "execution_count": 19,
      "outputs": []
    },
    {
      "cell_type": "markdown",
      "source": [
        "Para una mejor comprención se cambiara de nombre a las variables dandole nombres estrategicos"
      ],
      "metadata": {
        "id": "bUf5yFGyfILT"
      }
    },
    {
      "cell_type": "code",
      "source": [
        "# Asignar nuevos nombres a todas las columnas\n",
        "personas_filtrado.columns = ['id_viv','id_hogar','id_per','edaddias','etnia','padre_hogar','madre_hogar','peso_1','peso_2','peso_3',\n",
        "                    'long_1','long_2','long_3','talla_1','talla_2','talla_3','hemoglobina','dcronica']\n",
        "hogar_filtrado.columns=['id_viv','id_hogar1','material_techo','material_paredes','material_piso','tipo_agua','servicio_higenico','dispone_luz_red_publica','cocina_mediante','existe_agua','quedo_sin_alimentos',\n",
        "                'agua_proviene','ultimas_2_semanas_cantidades_necesarias','agua_que_beben']\n",
        "\n",
        "lactancia_filtrado.columns=['id_viv','id_hogar2','id_per2','id_mef_per','dio_ceno_al_nacer','tiempo_despues_empezo_a_lactar','dias_solo_pecho','tomo_agua_pura_ayer','ayer_cuantos_tarros_de_leche',\n",
        "                     'ayer_duantas_fundas_de_leche','ayer_tomo_jugos','ayer_comio_sopa','ayer_tomo_otro_liquido','ayer_comio_alimento_solido','ayer_comio_colada_espesa','ayer_comio_pure','ayer_comio_zapallo',\n",
        "                     'ayer_comio_papa','ayer_comio_cualquier_vegetal','ayer_comio_maduro','ayer_comio_cualquier_fruta','ayer_comio_higado','ayer_comio_cualquier_carne','ayer_comio_huevos','ayer_comio_pescado',\n",
        "                      'ayer_comio_cualquier semilla','ayer_comio_lacteo','ayer_comio_alimentos_preparados_manteca_cerdo','ayer_comio_dulce','ayer_comio_alimentos_preparados_condimentos','f2_s3_312_qayer_comio_alimentos_aceite_vegetal','ayer_comio_alimentos_preparados_aceite_vegetal','ayer_comio_alimentos_sal',\n",
        "                      'ayer_comio_ala¡imentos_dulce','otros_alimentos','cuantas_veces_comio_solido','tomo_liquido_en_biceron','cuantos_biberones','liquido_que_toma','recibio_dos_tomas_de_leche','respetan_permiso:lactancia','respetan_licencia_maternidad','permiten_sala_lactancia']\n",
        "mef_filtrado.columns=['id_viv','id_hogar3','años cumplidos','hijos_vivos_que_murieron','cuantos_hijos_fallecieron_5meses','total_hijos_viven_casa','total_hijos_fuera_casa','suma_hijos_vivos']\n",
        "\n",
        "salud_ninez_filtrado.columns=['id_viv','id_hogar4','id_per4','area','ord_hijo','esta_vivo','tuvo_control_penatral','controles_antes_parto','consumo_acido_folico_durante_embarazo','consumo_hierro_durante_embarazo','consumo micronutrirntes_durante_embarazo',\n",
        "                      'toma_presión_durante_embarazo','examen_VIH_antes_20semanas','examen_VIH_a_partir_20semanas','examen_VIH_durante_embarazo','examen_anemia_antes_20semanas','examen_anemia_a_oartir_20semanas','examen_orina__antes_20semanas','examen_orina_a_partir_20semanas','examen_TORCHs_antes_20semanas',\n",
        "                      'examen_TORCHs_a_partir_20semanas','vacuna_tetanos_y_difteria','vacuna_influencia','ecos_obstetricos','recibio_charla_durante_embarazo','recibio_charla_sobre_lactancia','recibio_charla_consumo_micronutrientes','recibio_charla_alarma_embarazo','recibio_charla_preparacion_alimentos',\n",
        "                      'recibio_charla_lavado_de_manos','cuantos_nacidos_vivos','recibio_consejeria_apego_lactancia','recibio_charla_alimentacion_saludable','recibio_charla_planificacion_transporte','recibio_charla_agua_segura','tipo_parto','primera_hora_leche_materna','primer_control_postarto_dias',\n",
        "                      'primer_control_postarto_semanas','primer_control_postarto_meses']"
      ],
      "metadata": {
        "id": "-eJ7uXghfRHo"
      },
      "execution_count": 51,
      "outputs": []
    },
    {
      "cell_type": "markdown",
      "source": [
        "Se unen las bases"
      ],
      "metadata": {
        "id": "O9QzIuZWHHAS"
      }
    },
    {
      "cell_type": "code",
      "source": [
        "# Unir personas y hogar\n",
        "personas_hogar = personas_filtrado.merge(hogar_filtrado, on='id_viv', how='inner')\n",
        "\n",
        "# Unir el resultado anterior con lactancia\n",
        "personas_hogar_lactancia = personas_hogar.merge(lactancia_filtrado, on='id_viv', how='inner')\n",
        "\n",
        "# Unir el resultado con mef\n",
        "personas_hogar_lactancia_mef = personas_hogar_lactancia.merge(mef_filtrado, on='id_viv', how='inner')\n",
        "\n",
        "# Finalmente, unir con salud_ninez\n",
        "base_general = personas_hogar_lactancia_mef.merge(salud_ninez_filtrado, on='id_viv', how='inner')\n"
      ],
      "metadata": {
        "id": "5VV06Csv_UXh"
      },
      "execution_count": 60,
      "outputs": []
    },
    {
      "cell_type": "markdown",
      "source": [
        "Filtrar solo a los niños menore o igual a 5 años"
      ],
      "metadata": {
        "id": "89w_l9pwKtLt"
      }
    },
    {
      "cell_type": "code",
      "source": [
        "# Definir el rango de días para niños de 5 años o menos\n",
        "base_general['edaddias'] = pd.to_numeric(base_general['edaddias'], errors='coerce')\n",
        "dias_max = 1825  # 5 años\n",
        "# Filtrar el DataFrame para incluir solo a los niños de 5 años o menos\n",
        "base_general = base_general[base_general['edaddias'] <= dias_max]"
      ],
      "metadata": {
        "id": "1NBuuy2oKpTW"
      },
      "execution_count": 61,
      "outputs": []
    },
    {
      "cell_type": "code",
      "source": [
        "# Obtener la cantidad de columnas y filas\n",
        "cantidad_columnas = base_general.shape[1]  # Número de columnas\n",
        "cantidad_registros = base_general.shape[0]  # Número de filas\n",
        "\n",
        "# Imprimir la cantidad de columnas y registros\n",
        "print(f'Cantidad de columnas: {cantidad_columnas}')\n",
        "print(f'Cantidad de registros: {cantidad_registros}')\n"
      ],
      "metadata": {
        "colab": {
          "base_uri": "https://localhost:8080/"
        },
        "id": "R-ZSvsiWLEOm",
        "outputId": "24b43820-07c9-45b4-d662-55202662f65f"
      },
      "execution_count": 63,
      "outputs": [
        {
          "output_type": "stream",
          "name": "stdout",
          "text": [
            "Cantidad de columnas: 119\n",
            "Cantidad de registros: 10154\n"
          ]
        }
      ]
    },
    {
      "cell_type": "markdown",
      "source": [
        "### Exploratorio de datos"
      ],
      "metadata": {
        "id": "S3uBm-4F0eMx"
      }
    },
    {
      "cell_type": "markdown",
      "source": [
        "###Creación de los conjunto de validación"
      ],
      "metadata": {
        "id": "5iE-4-uDxz4r"
      }
    },
    {
      "cell_type": "markdown",
      "source": [
        "##Selección, prepocesamiento y transformación"
      ],
      "metadata": {
        "id": "ijhA54krx4kl"
      }
    },
    {
      "cell_type": "markdown",
      "source": [
        "###Tratamiento de valores nulos"
      ],
      "metadata": {
        "id": "vRBvk6LpyEt4"
      }
    },
    {
      "cell_type": "markdown",
      "source": [
        "###Tratamiento de valores atipicos"
      ],
      "metadata": {
        "id": "pgPDDPieyF2Z"
      }
    },
    {
      "cell_type": "markdown",
      "source": [
        "###Oversampling"
      ],
      "metadata": {
        "id": "2JaV5N9-71yB"
      }
    },
    {
      "cell_type": "markdown",
      "source": [
        "###Tratamiento de variables"
      ],
      "metadata": {
        "id": "WbeBj-9Q3Xj6"
      }
    },
    {
      "cell_type": "markdown",
      "source": [
        "####Analisis de Componentes Especiales (ACP)"
      ],
      "metadata": {
        "id": "K6ZXdhrpyJ-d"
      }
    },
    {
      "cell_type": "markdown",
      "source": [
        "##Mineria de datos"
      ],
      "metadata": {
        "id": "1xxqaRK0yeZL"
      }
    },
    {
      "cell_type": "code",
      "source": [],
      "metadata": {
        "id": "NVgCluvv8qPp"
      },
      "execution_count": null,
      "outputs": []
    },
    {
      "cell_type": "markdown",
      "source": [
        "###Regresión Logistica"
      ],
      "metadata": {
        "id": "K5_7HPOZ4_aJ"
      }
    },
    {
      "cell_type": "markdown",
      "source": [
        "###Random Forest"
      ],
      "metadata": {
        "id": "H21P6h3s5C1h"
      }
    },
    {
      "cell_type": "markdown",
      "source": [
        "##Interpretación y Evalución"
      ],
      "metadata": {
        "id": "Oc-SPAos4dSJ"
      }
    },
    {
      "cell_type": "markdown",
      "source": [
        "###Matriz de confusión"
      ],
      "metadata": {
        "id": "rG9W7eEj4xb1"
      }
    },
    {
      "cell_type": "markdown",
      "source": [
        "###Curva ROC"
      ],
      "metadata": {
        "id": "iIFtWThE41Ie"
      }
    },
    {
      "cell_type": "markdown",
      "source": [
        "###Validación Cruzada"
      ],
      "metadata": {
        "id": "Dn0-mBKd87S9"
      }
    },
    {
      "cell_type": "code",
      "source": [],
      "metadata": {
        "id": "WRnrtrMY85Rt"
      },
      "execution_count": null,
      "outputs": []
    }
  ]
}