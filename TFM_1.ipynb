{
  "nbformat": 4,
  "nbformat_minor": 0,
  "metadata": {
    "colab": {
      "provenance": [],
      "toc_visible": true,
      "authorship_tag": "ABX9TyNH6ZzAfEdohrEvT32S8FHW",
      "include_colab_link": true
    },
    "kernelspec": {
      "name": "python3",
      "display_name": "Python 3"
    },
    "language_info": {
      "name": "python"
    }
  },
  "cells": [
    {
      "cell_type": "markdown",
      "metadata": {
        "id": "view-in-github",
        "colab_type": "text"
      },
      "source": [
        "<a href=\"https://colab.research.google.com/github/MariaChuquitarco/014MBID/blob/main/TFM_1.ipynb\" target=\"_parent\"><img src=\"https://colab.research.google.com/assets/colab-badge.svg\" alt=\"Open In Colab\"/></a>"
      ]
    },
    {
      "cell_type": "markdown",
      "source": [
        "#Proceso KDD\n"
      ],
      "metadata": {
        "id": "9GPjF1TitXvi"
      }
    },
    {
      "cell_type": "markdown",
      "source": [
        "##Obtención de la base de datos"
      ],
      "metadata": {
        "id": "X_pjjMGatdnB"
      }
    },
    {
      "cell_type": "markdown",
      "source": [
        "### Exploratorio de datos"
      ],
      "metadata": {
        "id": "S3uBm-4F0eMx"
      }
    },
    {
      "cell_type": "markdown",
      "source": [
        "###Creación de los conjunto de validación"
      ],
      "metadata": {
        "id": "5iE-4-uDxz4r"
      }
    },
    {
      "cell_type": "markdown",
      "source": [
        "##Selección, prepocesamiento y transformación"
      ],
      "metadata": {
        "id": "ijhA54krx4kl"
      }
    },
    {
      "cell_type": "markdown",
      "source": [
        "###Tratamiento de valores nulos"
      ],
      "metadata": {
        "id": "vRBvk6LpyEt4"
      }
    },
    {
      "cell_type": "markdown",
      "source": [
        "###Tratamiento de valores atipicos"
      ],
      "metadata": {
        "id": "pgPDDPieyF2Z"
      }
    },
    {
      "cell_type": "markdown",
      "source": [
        "###Tratamiento de variables"
      ],
      "metadata": {
        "id": "WbeBj-9Q3Xj6"
      }
    },
    {
      "cell_type": "markdown",
      "source": [
        "####Analisis de Componentes Especiales (ACP)"
      ],
      "metadata": {
        "id": "K6ZXdhrpyJ-d"
      }
    },
    {
      "cell_type": "markdown",
      "source": [
        "##Mineria de datos"
      ],
      "metadata": {
        "id": "1xxqaRK0yeZL"
      }
    },
    {
      "cell_type": "markdown",
      "source": [
        "###Regresión Lineal"
      ],
      "metadata": {
        "id": "K5_7HPOZ4_aJ"
      }
    },
    {
      "cell_type": "markdown",
      "source": [
        "###Random Forest"
      ],
      "metadata": {
        "id": "H21P6h3s5C1h"
      }
    },
    {
      "cell_type": "markdown",
      "source": [
        "##Interpretación y Evalución"
      ],
      "metadata": {
        "id": "Oc-SPAos4dSJ"
      }
    },
    {
      "cell_type": "markdown",
      "source": [
        "###Matriz de confucción"
      ],
      "metadata": {
        "id": "rG9W7eEj4xb1"
      }
    },
    {
      "cell_type": "markdown",
      "source": [
        "###Curva ROC"
      ],
      "metadata": {
        "id": "iIFtWThE41Ie"
      }
    },
    {
      "cell_type": "code",
      "source": [],
      "metadata": {
        "id": "YIuvxM7g4vud"
      },
      "execution_count": null,
      "outputs": []
    }
  ]
}