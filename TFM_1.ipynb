{
  "nbformat": 4,
  "nbformat_minor": 0,
  "metadata": {
    "colab": {
      "provenance": [],
      "authorship_tag": "ABX9TyNK4pyHzEIHefUNxKPMrVdc",
      "include_colab_link": true
    },
    "kernelspec": {
      "name": "python3",
      "display_name": "Python 3"
    },
    "language_info": {
      "name": "python"
    }
  },
  "cells": [
    {
      "cell_type": "markdown",
      "metadata": {
        "id": "view-in-github",
        "colab_type": "text"
      },
      "source": [
        "<a href=\"https://colab.research.google.com/github/MariaChuquitarco/014MBID/blob/main/TFM_1.ipynb\" target=\"_parent\"><img src=\"https://colab.research.google.com/assets/colab-badge.svg\" alt=\"Open In Colab\"/></a>"
      ]
    },
    {
      "cell_type": "markdown",
      "source": [
        "#Proceso KDD\n"
      ],
      "metadata": {
        "id": "9GPjF1TitXvi"
      }
    },
    {
      "cell_type": "markdown",
      "source": [
        "##Obtención de la base de datos"
      ],
      "metadata": {
        "id": "X_pjjMGatdnB"
      }
    },
    {
      "cell_type": "code",
      "source": [],
      "metadata": {
        "id": "qhwXkg9ft8E_"
      },
      "execution_count": null,
      "outputs": []
    }
  ]
}